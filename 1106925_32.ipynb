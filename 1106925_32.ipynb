{
 "cells": [
  {
   "cell_type": "code",
   "execution_count": 1,
   "metadata": {},
   "outputs": [],
   "source": [
    "from gurobipy import *\n",
    "import numpy as np\n",
    "import random"
   ]
  },
  {
   "cell_type": "code",
   "execution_count": 2,
   "metadata": {},
   "outputs": [],
   "source": [
    "D = [0,1,2,3,4,5]\n",
    "P = [0,1,2,3,4,5]"
   ]
  },
  {
   "cell_type": "code",
   "execution_count": 3,
   "metadata": {},
   "outputs": [
    {
     "data": {
      "text/plain": [
       "{(0, 0): 115,\n",
       " (0, 1): 97,\n",
       " (0, 2): 105,\n",
       " (0, 3): 133,\n",
       " (0, 4): 69,\n",
       " (0, 5): 93,\n",
       " (1, 0): 114,\n",
       " (1, 1): 95,\n",
       " (1, 2): 117,\n",
       " (1, 3): 53,\n",
       " (1, 4): 86,\n",
       " (1, 5): 70,\n",
       " (2, 0): 96,\n",
       " (2, 1): 62,\n",
       " (2, 2): 92,\n",
       " (2, 3): 83,\n",
       " (2, 4): 134,\n",
       " (2, 5): 139,\n",
       " (3, 0): 132,\n",
       " (3, 1): 54,\n",
       " (3, 2): 110,\n",
       " (3, 3): 50,\n",
       " (3, 4): 127,\n",
       " (3, 5): 77,\n",
       " (4, 0): 62,\n",
       " (4, 1): 67,\n",
       " (4, 2): 69,\n",
       " (4, 3): 131,\n",
       " (4, 4): 55,\n",
       " (4, 5): 87,\n",
       " (5, 0): 144,\n",
       " (5, 1): 113,\n",
       " (5, 2): 122,\n",
       " (5, 3): 81,\n",
       " (5, 4): 88,\n",
       " (5, 5): 133}"
      ]
     },
     "execution_count": 3,
     "metadata": {},
     "output_type": "execute_result"
    }
   ],
   "source": [
    "availableDataMapping = {}\n",
    "for d in range(len(D)):\n",
    "    for p in range(len(P)):\n",
    "        availableDataMapping[d,p]=np.random.randint(50,150)\n",
    "availableDataMapping"
   ]
  },
  {
   "cell_type": "code",
   "execution_count": 4,
   "metadata": {},
   "outputs": [
    {
     "data": {
      "text/plain": [
       "{(0, 0): 115,\n",
       " (0, 1): 97,\n",
       " (0, 2): 105,\n",
       " (0, 3): 133,\n",
       " (0, 4): 69,\n",
       " (0, 5): 93,\n",
       " (1, 0): 114,\n",
       " (1, 1): 95,\n",
       " (1, 2): 117,\n",
       " (1, 3): 53,\n",
       " (1, 4): 86,\n",
       " (1, 5): 70,\n",
       " (2, 0): 96,\n",
       " (2, 1): 62,\n",
       " (2, 2): 92,\n",
       " (2, 3): 83,\n",
       " (2, 4): 134,\n",
       " (2, 5): 139,\n",
       " (3, 0): 132,\n",
       " (3, 1): 54,\n",
       " (3, 2): 110,\n",
       " (3, 3): 50,\n",
       " (3, 4): 127,\n",
       " (3, 5): 77,\n",
       " (4, 0): 62,\n",
       " (4, 1): 67,\n",
       " (4, 2): 69,\n",
       " (4, 3): 131,\n",
       " (4, 4): 55,\n",
       " (4, 5): 87,\n",
       " (5, 0): 144,\n",
       " (5, 1): 113,\n",
       " (5, 2): 122,\n",
       " (5, 3): 81,\n",
       " (5, 4): 88,\n",
       " (5, 5): 133}"
      ]
     },
     "execution_count": 4,
     "metadata": {},
     "output_type": "execute_result"
    }
   ],
   "source": [
    "combinations, values = multidict(availableDataMapping)\n",
    "values"
   ]
  },
  {
   "cell_type": "code",
   "execution_count": 5,
   "metadata": {},
   "outputs": [
    {
     "name": "stdout",
     "output_type": "stream",
     "text": [
      "Using license file C:\\Users\\bhpat\\gurobi.lic\n",
      "Academic license - for non-commercial use only\n"
     ]
    }
   ],
   "source": [
    "m = Model(\"Assignment1 - Problem3\")"
   ]
  },
  {
   "cell_type": "code",
   "execution_count": 6,
   "metadata": {},
   "outputs": [],
   "source": [
    "X = m.addVars(combinations,vtype=GRB.BINARY,name=\"Selected Match\")"
   ]
  },
  {
   "cell_type": "code",
   "execution_count": 7,
   "metadata": {},
   "outputs": [],
   "source": [
    "PatientsAllocation = m.addConstrs((X.sum(p,'*')==1 for p in P),'PatientsAllocation')\n",
    "doctorsAllocation = m.addConstrs((X.sum('*',d)==1 for d in D),'doctorsAllocation')\n",
    "# PatientsAllocation = m.addConstrs((X.sum('*',p)==1 for p in P),'PatientsAllocation')"
   ]
  },
  {
   "cell_type": "code",
   "execution_count": 8,
   "metadata": {},
   "outputs": [],
   "source": [
    "m.setObjective(X.prod(values),GRB.MINIMIZE)"
   ]
  },
  {
   "cell_type": "code",
   "execution_count": 9,
   "metadata": {},
   "outputs": [
    {
     "name": "stdout",
     "output_type": "stream",
     "text": [
      "Gurobi Optimizer version 9.0.2 build v9.0.2rc0 (win64)\n",
      "Optimize a model with 12 rows, 36 columns and 72 nonzeros\n",
      "Model fingerprint: 0xdc70e350\n",
      "Variable types: 0 continuous, 36 integer (36 binary)\n",
      "Coefficient statistics:\n",
      "  Matrix range     [1e+00, 1e+00]\n",
      "  Objective range  [5e+01, 1e+02]\n",
      "  Bounds range     [1e+00, 1e+00]\n",
      "  RHS range        [1e+00, 1e+00]\n",
      "Found heuristic solution: objective 581.0000000\n",
      "Presolve time: 0.00s\n",
      "Presolved: 12 rows, 36 columns, 72 nonzeros\n",
      "Variable types: 0 continuous, 36 integer (36 binary)\n",
      "\n",
      "Root relaxation: objective 4.280000e+02, 11 iterations, 0.00 seconds\n",
      "\n",
      "    Nodes    |    Current Node    |     Objective Bounds      |     Work\n",
      " Expl Unexpl |  Obj  Depth IntInf | Incumbent    BestBd   Gap | It/Node Time\n",
      "\n",
      "*    0     0               0     428.0000000  428.00000  0.00%     -    0s\n",
      "\n",
      "Explored 0 nodes (11 simplex iterations) in 0.08 seconds\n",
      "Thread count was 4 (of 4 available processors)\n",
      "\n",
      "Solution count 2: 428 581 \n",
      "\n",
      "Optimal solution found (tolerance 1.00e-04)\n",
      "Best objective 4.280000000000e+02, best bound 4.280000000000e+02, gap 0.0000%\n"
     ]
    }
   ],
   "source": [
    "m.optimize()"
   ]
  },
  {
   "cell_type": "code",
   "execution_count": 10,
   "metadata": {},
   "outputs": [
    {
     "name": "stdout",
     "output_type": "stream",
     "text": [
      "Selected Match[0,4] 1.0\n",
      "Selected Match[1,5] 1.0\n",
      "Selected Match[2,2] 1.0\n",
      "Selected Match[3,1] 1.0\n",
      "Selected Match[4,0] 1.0\n",
      "Selected Match[5,3] 1.0\n"
     ]
    }
   ],
   "source": [
    "for val in m.getVars():\n",
    "  if(abs(val.x)>1e-6):\n",
    "    print(val.varName,val.x)"
   ]
  }
 ],
 "metadata": {
  "kernelspec": {
   "display_name": "Python 3",
   "language": "python",
   "name": "python3"
  },
  "language_info": {
   "codemirror_mode": {
    "name": "ipython",
    "version": 3
   },
   "file_extension": ".py",
   "mimetype": "text/x-python",
   "name": "python",
   "nbconvert_exporter": "python",
   "pygments_lexer": "ipython3",
   "version": "3.7.4"
  }
 },
 "nbformat": 4,
 "nbformat_minor": 2
}
